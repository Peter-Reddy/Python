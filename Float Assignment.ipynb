{
 "cells": [
  {
   "cell_type": "code",
   "execution_count": 1,
   "id": "b4a423ea",
   "metadata": {},
   "outputs": [
    {
     "name": "stdout",
     "output_type": "stream",
     "text": [
      "<class 'float'>\n",
      "2899845214992\n"
     ]
    }
   ],
   "source": [
    "#Q. Declare a float value and store it in a variable.\n",
    "#Check the type and print the id of the same.\n",
    "\n",
    "\n",
    "a = 10.05\n",
    "\n",
    "print(type(a))\n",
    "print(id(a))"
   ]
  },
  {
   "cell_type": "code",
   "execution_count": 1,
   "id": "b16d6221",
   "metadata": {},
   "outputs": [
    {
     "name": "stdout",
     "output_type": "stream",
     "text": [
      "30.150000000000002\n",
      "-10.05\n",
      "202.00500000000002\n",
      "0.5\n",
      "10.05\n",
      "0.0\n",
      "1.3916750501428327e+20\n"
     ]
    }
   ],
   "source": [
    "#Q. Arithmetic Operations on float\n",
    "#Take two different float values.\n",
    "#Store them in two different variables.\n",
    "#Do below operations on them:-\n",
    "# Find sum of both numbers\n",
    "# Find difference between them\n",
    "# Find the product of both numbers.\n",
    "# Find value after dividing first num with second number\n",
    "# Find the remainder after dividing first number with second number\n",
    "# Find the quotient after dividing first number with second number\n",
    "# Find the result of the first num to the power of the second number.\n",
    "\n",
    "\n",
    "a = 10.05\n",
    "b = 20.10\n",
    "\n",
    "\n",
    "c = a+b\n",
    "print (c)\n",
    "\n",
    "c = a-b\n",
    "print (c)\n",
    "\n",
    "c = a*b\n",
    "print (c)\n",
    "\n",
    "c = a/b\n",
    "print (c)\n",
    "\n",
    "c = a%b\n",
    "print (c)\n",
    "\n",
    "c = a//b\n",
    "print (c)\n",
    "\n",
    "c = a**b\n",
    "print (c)"
   ]
  },
  {
   "cell_type": "code",
   "execution_count": 4,
   "id": "4033df72",
   "metadata": {},
   "outputs": [
    {
     "name": "stdout",
     "output_type": "stream",
     "text": [
      "True\n",
      "False\n",
      "True\n",
      "False\n"
     ]
    }
   ],
   "source": [
    "# Q. Comparison Operators on float\n",
    "# Take two different float values.\n",
    "# Store them in two different variables.\n",
    "# Do below operations on them:-\n",
    "# Compare these two numbers with below operator:-\n",
    "# Greater than, '>'\n",
    "# Smaller than, '<'\n",
    "# Greater than or equal to, '>='\n",
    "# Less than or equal to, '<='\n",
    "# Observe their output(return type should be boolean)\n",
    "\n",
    "\n",
    "a=15.10 \n",
    "b=13.20\n",
    "\n",
    "c=(a>b)\n",
    "print(c)\n",
    "\n",
    "c=(a<b)\n",
    "print(c)\n",
    "\n",
    "c=(a>=b)\n",
    "print(c)\n",
    "\n",
    "c=(a<=b)\n",
    "print(c)\n"
   ]
  },
  {
   "cell_type": "code",
   "execution_count": 5,
   "id": "9d3a5a0b",
   "metadata": {},
   "outputs": [
    {
     "name": "stdout",
     "output_type": "stream",
     "text": [
      "False\n",
      "True\n"
     ]
    }
   ],
   "source": [
    "# Q. Equality Operator\n",
    "# Take two different float values.\n",
    "# Store them in two different variables.\n",
    "# Equate them using equality operators (==, !=)\n",
    "# Observe the output(return type should be boolean)\n",
    "\n",
    "\n",
    "a=15.10\n",
    "b=20.03\n",
    "\n",
    "c=(a==b)\n",
    "print(c)\n",
    "\n",
    "c=(a!=b)\n",
    "print(c)"
   ]
  },
  {
   "cell_type": "code",
   "execution_count": 9,
   "id": "189680ec",
   "metadata": {},
   "outputs": [
    {
     "name": "stdout",
     "output_type": "stream",
     "text": [
      "20.3\n",
      "0.0\n",
      "0.0\n",
      "0.0\n",
      "10.2\n",
      "20.3\n",
      "20.3\n",
      "0.0\n",
      "False\n",
      "True\n"
     ]
    }
   ],
   "source": [
    "# Q. Logical operators\n",
    "# Observe the output of below code\n",
    "# Cross check the output manually\n",
    "\n",
    "print(10.20 and 20.30) #both are true and second value taken\n",
    "#>Output is 20.3\n",
    "\n",
    "print(0.0 and 20.30) #First is false so first value\n",
    "#taken->Output is 0.0\n",
    "\n",
    "print(20.30 and 0.0) #Goes to till second and second value is\n",
    "#false so second is taken>Output is 0.0\n",
    "\n",
    "print(0.0 and 0.0) #First is false so first value is\n",
    "#taken->Output is 0.0\n",
    "\n",
    "print(10.20 or 20.30) #First is True so first value is\n",
    "#taken>Output is 10.2\n",
    "\n",
    "print(0.0 or 20.30) #Goes to till second and second is true\n",
    "#second value is taken->Output is 20.3\n",
    "\n",
    "print(20.30 or 0.0) #First is True so first value is\n",
    "#taken->Output is 20.3\n",
    "\n",
    "print(0.0 or 0.0) #Goes to till second and second is also\n",
    "#false and second value is taken>Output is 0.0\n",
    "\n",
    "print(not 10.20) #-Not of true is false->Output is False\n",
    "\n",
    "print(not 0.0) #Not of false is True>Output is True\n"
   ]
  },
  {
   "cell_type": "code",
   "execution_count": 11,
   "id": "28ce526f",
   "metadata": {},
   "outputs": [
    {
     "name": "stdout",
     "output_type": "stream",
     "text": [
      "False\n",
      "True\n"
     ]
    }
   ],
   "source": [
    "# Q. What is the output of expression inside print statement. Cross check\n",
    "# before running the program.\n",
    "\n",
    "a = 10.20\n",
    "b - 10.20\n",
    "print(a is b) #True or False? True 10.20<256\n",
    "print(a is not b) #True or False? False\n",
    "\n",
    "# Why the Id of float values are different when the same value is\n",
    "# assigned to two different variables\n",
    "# ex: a = 10.5 b=10.5. but id will be same if I assign the variable\n",
    "# having float i.e. a=c then both a and c's Id are same"
   ]
  },
  {
   "cell_type": "code",
   "execution_count": 2,
   "id": "1fe688c1",
   "metadata": {},
   "outputs": [],
   "source": [
    "# Q. Bitwise operation is not applicable between instances of float.\n",
    "# Why the Id of float values are different when the same value is\n",
    "# assigned to two different variables\n",
    "# ex: a = 10.5 b=10.5. but id will be same if I assign the variable\n",
    "# having float i.e. a=c then both a and c's Id are same\n",
    "# Object reusability concept is not applicable on float values.\n",
    "\n"
   ]
  },
  {
   "cell_type": "code",
   "execution_count": 12,
   "id": "2919fd30",
   "metadata": {},
   "outputs": [
    {
     "name": "stdout",
     "output_type": "stream",
     "text": [
      "True\n",
      "True\n",
      "True\n",
      "True\n",
      "True\n",
      "True\n"
     ]
    }
   ],
   "source": [
    "# Q. Membership operation\n",
    "#in, not in are two membership operators and it returns boolean value\n",
    "\n",
    "print('2.7' in 'Python2.7.8') #True\n",
    "print(10.20 in [10,10.20,10+20j,'Python']) #True\n",
    "print(10.20 in (10,10.20,10+20j,'Python')) # True\n",
    "print(20.30 in {1,20.30,30+40j}) # True\n",
    "print(2.3 in {1:100, 2.3:200, 30+40j:300}) # True\n",
    "print(10 in range(20)) # True"
   ]
  },
  {
   "cell_type": "code",
   "execution_count": null,
   "id": "f96106d7",
   "metadata": {},
   "outputs": [],
   "source": []
  }
 ],
 "metadata": {
  "kernelspec": {
   "display_name": "Python 3 (ipykernel)",
   "language": "python",
   "name": "python3"
  },
  "language_info": {
   "codemirror_mode": {
    "name": "ipython",
    "version": 3
   },
   "file_extension": ".py",
   "mimetype": "text/x-python",
   "name": "python",
   "nbconvert_exporter": "python",
   "pygments_lexer": "ipython3",
   "version": "3.10.9"
  }
 },
 "nbformat": 4,
 "nbformat_minor": 5
}

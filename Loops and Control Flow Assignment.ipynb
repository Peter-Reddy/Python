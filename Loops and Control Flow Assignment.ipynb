{
 "cells": [
  {
   "cell_type": "code",
   "execution_count": 4,
   "id": "318ed088",
   "metadata": {},
   "outputs": [
    {
     "name": "stdout",
     "output_type": "stream",
     "text": [
      "Hello world!\n"
     ]
    }
   ],
   "source": [
    "#Print Hello world! :\n",
    "\n",
    "\n",
    "print('Hello world!')"
   ]
  },
  {
   "cell_type": "code",
   "execution_count": 5,
   "id": "c16222bf",
   "metadata": {},
   "outputs": [
    {
     "name": "stdout",
     "output_type": "stream",
     "text": [
      "1 10.5 True peter\n"
     ]
    }
   ],
   "source": [
    "#Declare the following variables:\n",
    "#Int, Float, Boolean, String & print its value.\n",
    "\n",
    "a=1\n",
    "b=10.5\n",
    "c=True\n",
    "d='peter'\n",
    "\n",
    "\n",
    "print(a, b,c,d,)"
   ]
  },
  {
   "cell_type": "code",
   "execution_count": 6,
   "id": "2cf10799",
   "metadata": {},
   "outputs": [
    {
     "name": "stdout",
     "output_type": "stream",
     "text": [
      "('area of the triangle is', 25.0)\n"
     ]
    }
   ],
   "source": [
    "#Program to calculate the Area Of Triangle:\n",
    "\n",
    "\n",
    "#length of the triangel= L \n",
    "L = 10\n",
    "#Height of the triangle= H\n",
    "H = 5\n",
    "\n",
    "\n",
    "# Area of the triangle= A\n",
    "A ='area of the triangle is',(1/2)*L*H\n",
    "print (A)"
   ]
  },
  {
   "cell_type": "code",
   "execution_count": 7,
   "id": "0ca6a36e",
   "metadata": {},
   "outputs": [
    {
     "name": "stdout",
     "output_type": "stream",
     "text": [
      "10 20\n",
      "value of \"a\" 20\n",
      "value of\"b\" 10\n"
     ]
    }
   ],
   "source": [
    "#Program to swap two variables:\n",
    "\n",
    "a=10\n",
    "b=20\n",
    "print(a,b)\n",
    "c=a\n",
    "\n",
    "a=b\n",
    "print('value of \"a\"',a)\n",
    "b=c\n",
    "print('value of\"b\"',b)"
   ]
  },
  {
   "cell_type": "code",
   "execution_count": 8,
   "id": "cc65c65c",
   "metadata": {},
   "outputs": [
    {
     "name": "stdout",
     "output_type": "stream",
     "text": [
      "it is a positive number 10\n"
     ]
    }
   ],
   "source": [
    "#Program is to check if a number is positive, negative\n",
    "#or 0 (Using If...elif...else).\n",
    "\n",
    "\n",
    "a = 10\n",
    "\n",
    "if a>0:\n",
    "    print('it is a positive number',a)\n",
    "elif a==0:\n",
    "    print('it is zero',a)\n",
    "else:\n",
    "    print('it is a negative number',a)"
   ]
  },
  {
   "cell_type": "code",
   "execution_count": 9,
   "id": "5f269c78",
   "metadata": {},
   "outputs": [
    {
     "name": "stdout",
     "output_type": "stream",
     "text": [
      "it is Even number 10\n"
     ]
    }
   ],
   "source": [
    "# Program is to check if a number is Even or Odd:\n",
    "\n",
    "a=10\n",
    "\n",
    "if a%2 ==0:\n",
    "    print ('it is Even number',a)\n",
    "else:\n",
    "    print('it is Odd number',a)"
   ]
  },
  {
   "cell_type": "code",
   "execution_count": 10,
   "id": "81347a0f",
   "metadata": {},
   "outputs": [
    {
     "name": "stdout",
     "output_type": "stream",
     "text": [
      "1\n",
      "3\n",
      "5\n",
      "7\n",
      "9\n",
      "11\n",
      "13\n",
      "15\n",
      "17\n",
      "19\n",
      "21\n",
      "23\n",
      "25\n",
      "27\n",
      "29\n",
      "31\n",
      "33\n",
      "35\n",
      "37\n",
      "39\n",
      "41\n",
      "43\n",
      "45\n",
      "47\n",
      "49\n"
     ]
    }
   ],
   "source": [
    "# Program to print Odd number within a given range:\n",
    "\n",
    "for x in range(1,50):\n",
    "    if x%2 ==1:\n",
    "        print(x)"
   ]
  },
  {
   "cell_type": "code",
   "execution_count": 3,
   "id": "6ccb5b43",
   "metadata": {},
   "outputs": [
    {
     "name": "stdout",
     "output_type": "stream",
     "text": [
      "120\n"
     ]
    }
   ],
   "source": [
    "#Python program to find the factorial of a number:\n",
    "\n",
    "def factorial(n):\n",
    "    if n == 0 or n == 1:\n",
    "        result = 1\n",
    "    else:\n",
    "        result = n * factorial(n-1)\n",
    "    return result\n",
    "\n",
    "print(factorial(5))\n"
   ]
  },
  {
   "cell_type": "code",
   "execution_count": 11,
   "id": "00da2b3d",
   "metadata": {},
   "outputs": [
    {
     "name": "stdout",
     "output_type": "stream",
     "text": [
      "Enter number12345\n",
      "reverse number 54321\n"
     ]
    }
   ],
   "source": [
    "# Program to reverse a given number\n",
    "\n",
    "num=int(input('Enter number',))\n",
    "reverse=0\n",
    "\n",
    "while num>0:\n",
    "    reminder=num%10\n",
    "    reverse=(reverse*10)+reminder\n",
    "    num=num//10\n",
    "print('reverse number',reverse)"
   ]
  },
  {
   "cell_type": "code",
   "execution_count": 21,
   "id": "7b0a6d45",
   "metadata": {},
   "outputs": [
    {
     "name": "stdout",
     "output_type": "stream",
     "text": [
      "15\n"
     ]
    }
   ],
   "source": [
    "#Program to find out the sum of Natural numbers\n",
    "\n",
    "Nat_num=5\n",
    "l=1\n",
    "sum=0\n",
    "while l<=Nat_num:\n",
    "    sum=sum+l\n",
    "    l=l+1\n",
    "    \n",
    "print(sum)\n",
    "\n",
    "\n"
   ]
  },
  {
   "cell_type": "markdown",
   "id": "778f27cc",
   "metadata": {},
   "source": [
    "# Strings"
   ]
  },
  {
   "cell_type": "code",
   "execution_count": 28,
   "id": "6ceaabdc",
   "metadata": {},
   "outputs": [
    {
     "name": "stdout",
     "output_type": "stream",
     "text": [
      "dlrow iH\n"
     ]
    }
   ],
   "source": [
    "#Program to reverse a string without using\n",
    "#recursion:\n",
    "\n",
    "a='Hi world'\n",
    "\n",
    "v=a[::-1]\n",
    "print(v)\n"
   ]
  },
  {
   "cell_type": "code",
   "execution_count": 30,
   "id": "ddb55527",
   "metadata": {},
   "outputs": [
    {
     "name": "stdout",
     "output_type": "stream",
     "text": [
      "a is palindrome\n"
     ]
    }
   ],
   "source": [
    "#Program to check if string is palindrome or not:\n",
    "\n",
    "a='racecar'\n",
    "\n",
    "if a[::]==a[::-1]:\n",
    "    print('a is palindrome')\n",
    "else:\n",
    "    print('No it is not palindorme')"
   ]
  },
  {
   "cell_type": "code",
   "execution_count": 32,
   "id": "42469260",
   "metadata": {},
   "outputs": [
    {
     "name": "stdout",
     "output_type": "stream",
     "text": [
      "There $re seven continents in the world $meric$, $si$, $fric$, $rtic$, $ntr$tic$, europe\n"
     ]
    }
   ],
   "source": [
    "#Python Program to Replace all Occurrences of ‘a’ with $ in a String:\n",
    "\n",
    "\n",
    "str1= 'There are seven continents in the world america, asia, africa, artica, antratica, europe'\n",
    "\n",
    "new_str = ''\n",
    "for x in str1:\n",
    "    if x == 'a':\n",
    "        new_str += '$'\n",
    "    else:\n",
    "        new_str += x\n",
    "str1 = new_str\n",
    "print(str1)"
   ]
  },
  {
   "cell_type": "code",
   "execution_count": 39,
   "id": "cdfbecaa",
   "metadata": {},
   "outputs": [
    {
     "name": "stdout",
     "output_type": "stream",
     "text": [
      "8\n"
     ]
    }
   ],
   "source": [
    "#Python Program to Count the Number of Vowels in a String\n",
    "\n",
    "a='Hi there how are you'\n",
    "\n",
    "a='Hi there how are you'\n",
    "count=0\n",
    "for x in a:\n",
    "    if x=='a':\n",
    "        count=count+1\n",
    "    if x=='e':\n",
    "        count=count+1\n",
    "    if x=='i':\n",
    "        count=count+1\n",
    "    if x=='o':\n",
    "        count=count+1\n",
    "    if x=='u':\n",
    "        count=count+1\n",
    "\n",
    "print(count)"
   ]
  },
  {
   "cell_type": "code",
   "execution_count": 1,
   "id": "4bc9c69c",
   "metadata": {},
   "outputs": [
    {
     "name": "stdout",
     "output_type": "stream",
     "text": [
      "control Flow\n"
     ]
    }
   ],
   "source": [
    "#Input Two Strings and Display the Larger String\n",
    "#without Using Built-in Functions:\n",
    "\n",
    "a='loops'\n",
    "b='control Flow'\n",
    "\n",
    "if a<b:\n",
    "    print(a)\n",
    "else:\n",
    "    print(b)"
   ]
  },
  {
   "cell_type": "code",
   "execution_count": 15,
   "id": "291acd1c",
   "metadata": {},
   "outputs": [
    {
     "name": "stdout",
     "output_type": "stream",
     "text": [
      "37\n"
     ]
    }
   ],
   "source": [
    "#Count the number of digits & letter in a string:\n",
    "\n",
    "c='Loops and Control Flow Assignment 06/12/2023'\n",
    "\n",
    "count=0\n",
    "\n",
    "for x in c:\n",
    "    if x.isalpha()or x.isdigit():\n",
    "        count=count+1\n",
    "print(count)"
   ]
  },
  {
   "cell_type": "code",
   "execution_count": 25,
   "id": "19d49e66",
   "metadata": {},
   "outputs": [
    {
     "name": "stdout",
     "output_type": "stream",
     "text": [
      "9\n"
     ]
    }
   ],
   "source": [
    "#Count Number of Lowercase Characters in a\n",
    "#String:\n",
    "\n",
    "a='Control Flow'\n",
    "\n",
    "count=0\n",
    "\n",
    "for x in a:\n",
    "    if x.islower():\n",
    "        count+=1\n",
    "print(count)"
   ]
  },
  {
   "cell_type": "code",
   "execution_count": 27,
   "id": "b00dca21",
   "metadata": {},
   "outputs": [
    {
     "name": "stdout",
     "output_type": "stream",
     "text": [
      "yes it is there\n"
     ]
    }
   ],
   "source": [
    "#Program to check if a Substring is Present in a\n",
    "#Given String:\n",
    "\n",
    "c='Loops and Control Flow Assignment 06/12/2023'\n",
    "sub_string='Flow Assignment'\n",
    "\n",
    "if sub_string in c:\n",
    "    print('yes it is there')\n",
    "else:\n",
    "    print('No it is not there')"
   ]
  },
  {
   "cell_type": "markdown",
   "id": "df592081",
   "metadata": {},
   "source": [
    "# Lists & Tuples:\n"
   ]
  },
  {
   "cell_type": "code",
   "execution_count": 44,
   "id": "d76d278f",
   "metadata": {},
   "outputs": [
    {
     "name": "stdout",
     "output_type": "stream",
     "text": [
      "Laragest element is: 5000\n"
     ]
    }
   ],
   "source": [
    "# Program to Find the Largest Number in a List:\n",
    "\n",
    "samp=[10,20,100,5000,1000]\n",
    "\n",
    "\n",
    "samp.sort()\n",
    "print('Laragest element is:',samp[-1])"
   ]
  },
  {
   "cell_type": "code",
   "execution_count": 48,
   "id": "9861626a",
   "metadata": {},
   "outputs": [
    {
     "name": "stdout",
     "output_type": "stream",
     "text": [
      "[2, 4, 6, 8]\n",
      "[1, 3, 5, 7, 9]\n"
     ]
    }
   ],
   "source": [
    "# Program to Put Even and Odd elements in a List into Two Different Lists:\n",
    "\n",
    "sample=[1,2,3,4,5,6,7,8,9]\n",
    "Even=[]\n",
    "Odd=[]\n",
    "for x in sample:\n",
    "    if x%2==0:\n",
    "        Even.append(x)\n",
    "    else:\n",
    "        Odd.append(x)\n",
    "print(Even)\n",
    "print(Odd)"
   ]
  },
  {
   "cell_type": "code",
   "execution_count": 14,
   "id": "86a64136",
   "metadata": {},
   "outputs": [
    {
     "name": "stdout",
     "output_type": "stream",
     "text": [
      "5\n"
     ]
    }
   ],
   "source": [
    "# Program to Read a List of Words and Return the Length of the Longest One:\n",
    "\n",
    "\n",
    "Input =  ['one', 'two', 'three', 'four'] \n",
    "longest_value=[]\n",
    "  \n",
    "for x in Input:\n",
    "    longest_value.append(len(x))\n",
    "output=max(longest_value)\n",
    "\n",
    "print(output)"
   ]
  },
  {
   "cell_type": "code",
   "execution_count": 38,
   "id": "ef28d447",
   "metadata": {},
   "outputs": [
    {
     "name": "stdout",
     "output_type": "stream",
     "text": [
      "[(2, 4), (3, 9), (4, 16)]\n"
     ]
    }
   ],
   "source": [
    "# Create a List of Tuples with the First Element as the Number and Second Element as the Square of the Number:\n",
    "\n",
    "lst1=[2,3,4]\n",
    "\n",
    "res=[(val,val**2)for val in lst1]\n",
    "print(res) "
   ]
  },
  {
   "cell_type": "code",
   "execution_count": 40,
   "id": "ae661f2b",
   "metadata": {},
   "outputs": [
    {
     "name": "stdout",
     "output_type": "stream",
     "text": [
      "[2, 4, 10, 20, 5]\n"
     ]
    }
   ],
   "source": [
    "# Program to Remove the Duplicate Items from a List:\n",
    "\n",
    "output=[]\n",
    "Input =[2, 4, 10, 20, 5, 2, 20, 4]\n",
    "\n",
    "for s in Input:\n",
    "    if s not in output:\n",
    "        output.append(s)\n",
    "print(output)"
   ]
  },
  {
   "cell_type": "markdown",
   "id": "cf685dea",
   "metadata": {},
   "source": [
    "# Dictionary"
   ]
  },
  {
   "cell_type": "code",
   "execution_count": 82,
   "id": "b0131bb2",
   "metadata": {},
   "outputs": [
    {
     "name": "stdout",
     "output_type": "stream",
     "text": [
      "Present, value= 2\n"
     ]
    }
   ],
   "source": [
    "# Program to Check if a Given Key Exists in a Dictionary or Not:\n",
    "\n",
    "def checkkey(dic,key):\n",
    "    if key in dic.keys():\n",
    "        print('Present,', end=' ')\n",
    "        print('value=',dic[key])\n",
    "    else:\n",
    "        print('Not Present')\n",
    "    \n",
    "\n",
    "samp={'a':1,'b':2,'c':3}\n",
    "\n",
    "key='b'\n",
    "\n",
    "checkkey(samp,key)"
   ]
  },
  {
   "cell_type": "code",
   "execution_count": 68,
   "id": "f2331211",
   "metadata": {},
   "outputs": [
    {
     "name": "stdout",
     "output_type": "stream",
     "text": [
      "6\n"
     ]
    }
   ],
   "source": [
    "# Program to Sum All the Items in a Dictionary:\n",
    "sum1=0\n",
    "\n",
    "Input={'a':1,'b':2,'c':3}\n",
    "\n",
    "for x in Input.values():\n",
    "    sum1+=x\n",
    "print(sum1)"
   ]
  },
  {
   "cell_type": "code",
   "execution_count": 32,
   "id": "a38d08cc",
   "metadata": {},
   "outputs": [
    {
     "name": "stdout",
     "output_type": "stream",
     "text": [
      "{'a': 1, 'b': 2}\n"
     ]
    }
   ],
   "source": [
    "# Program to Remove the Given Key from a Dictionary:\n",
    "\n",
    "Input={'a':1,'b':2,'c':3}\n",
    "key='c'\n",
    "\n",
    "del Input[key]\n",
    "\n",
    "print(Input)"
   ]
  },
  {
   "cell_type": "code",
   "execution_count": 10,
   "id": "fb2a278c",
   "metadata": {},
   "outputs": [
    {
     "name": "stdout",
     "output_type": "stream",
     "text": [
      "a\n",
      "b\n",
      "c\n"
     ]
    }
   ],
   "source": [
    "# Write a Python program to iterate over dictionaries using for loops:\n",
    "\n",
    "\n",
    "Input={'a':1,'b':2,'c':3}\n",
    "\n",
    "for x in Input:\n",
    "    print(x)"
   ]
  },
  {
   "cell_type": "code",
   "execution_count": 20,
   "id": "2f5c83f3",
   "metadata": {},
   "outputs": [
    {
     "name": "stdout",
     "output_type": "stream",
     "text": [
      "['a', 'b', 'c']\n"
     ]
    }
   ],
   "source": [
    "# Write a Python program to sort a dictionary by key:\n",
    "output=[]\n",
    "Input={'c':1,'a':2,'b':3}\n",
    "\n",
    "for x in Input:\n",
    "    output.append(x)\n",
    "output.sort()  \n",
    "print(output)"
   ]
  },
  {
   "cell_type": "markdown",
   "id": "c8f43e68",
   "metadata": {},
   "source": [
    "# If - elif - else statement"
   ]
  },
  {
   "cell_type": "code",
   "execution_count": 2,
   "id": "90f44900",
   "metadata": {},
   "outputs": [
    {
     "name": "stdout",
     "output_type": "stream",
     "text": [
      "Enter any number from 0 to 9: 5\n",
      "five\n"
     ]
    }
   ],
   "source": [
    "# Q. W. A P. which takes one number from 0 to 9 from the user and prints\n",
    "# it in the word. And if the word is not from 0 to 9 then\n",
    "# it should print that number is outside of the range and program should\n",
    "# exit.\n",
    "# For exapmple:-\n",
    "# input = 1\n",
    "# output = one\n",
    "\n",
    "Input = input('Enter any number from 0 to 9: ')\n",
    "\n",
    "# Convert the input to an integer\n",
    "number = int(Input)\n",
    "\n",
    "if number == 0:\n",
    "    print('zero')\n",
    "elif number == 1:\n",
    "    print('one')\n",
    "elif number == 2:\n",
    "    print('two')\n",
    "elif number == 3:\n",
    "    print('three')\n",
    "elif number == 4:\n",
    "    print('four')\n",
    "elif number == 5:\n",
    "    print('five')\n",
    "elif number == 6:\n",
    "    print('six')\n",
    "elif number == 7:\n",
    "    print('seven')\n",
    "elif number == 8:\n",
    "    print('eight')\n",
    "elif number == 9:\n",
    "    print('nine')\n",
    "else:\n",
    "    print('Invalid input. Please enter a number from 0 to 9.')"
   ]
  },
  {
   "cell_type": "code",
   "execution_count": null,
   "id": "748eb2fe",
   "metadata": {},
   "outputs": [
    {
     "name": "stdout",
     "output_type": "stream",
     "text": [
      "Please select any one operation from below\n",
      "To add enter 1\n",
      "To subtract enter 2\n",
      "To multiply enter 3\n",
      "To divide enter 4\n",
      "To divide and find quotient enter 5\n",
      "To divide and find remainder enter 6\n",
      "To divide and find num1 to the power of num2 enter 7\n",
      "To come out of the program enter 8\n",
      "Enter your choice: 7\n",
      "Enter the first number: 2\n",
      "Enter the second number: 3\n",
      "Result: 8.0\n",
      "Please select any one operation from below\n",
      "To add enter 1\n",
      "To subtract enter 2\n",
      "To multiply enter 3\n",
      "To divide enter 4\n",
      "To divide and find quotient enter 5\n",
      "To divide and find remainder enter 6\n",
      "To divide and find num1 to the power of num2 enter 7\n",
      "To come out of the program enter 8\n"
     ]
    }
   ],
   "source": [
    "# Q. W. A P. to implement calculator but the operation to be done and two\n",
    "# numbers will be taken as input from user:-\n",
    "# Operation console should show below:-\n",
    "# Please select any one operation from below:-\n",
    "# * To add enter 1\n",
    "# * to subtract enter 2\n",
    "# * To multiply enter 3\n",
    "# * To divide enter 4\n",
    "# * To divide and find quotient enter 5\n",
    "# * To divide and find remainder enter 6\n",
    "# * To divide and find num1 to the power of num2 enter 7\n",
    "# * To Come out of the program enter 8 \n",
    "\n",
    "while True:\n",
    "    print('Please select any one operation from below')\n",
    "    print('To add enter 1')\n",
    "    print('To subtract enter 2')\n",
    "    print('To multiply enter 3')\n",
    "    print('To divide enter 4')\n",
    "    print('To divide and find quotient enter 5')\n",
    "    print('To divide and find remainder enter 6')\n",
    "    print('To divide and find num1 to the power of num2 enter 7')\n",
    "    print('To come out of the program enter 8')\n",
    "    \n",
    "    number = int(input('Enter your choice: '))\n",
    "    \n",
    "    if number == 8:\n",
    "        print('Exiting program')\n",
    "        break\n",
    "        \n",
    "    num1 = float(input('Enter the first number: '))\n",
    "    num2 = float(input('Enter the second number: '))  # Added a colon \":\" here\n",
    "    \n",
    "    if number == 1:\n",
    "        print('Result:', num1 + num2)\n",
    "    elif number == 2:\n",
    "        print('Result:', num1 - num2)\n",
    "    elif number == 3:\n",
    "        print('Result:', num1 * num2)\n",
    "    elif number == 4:\n",
    "        print('Result:', num1 / num2)\n",
    "    elif number == 5:\n",
    "        print('Result:', num1 // num2)\n",
    "    elif number == 6:\n",
    "        print('Result:', num1 % num2)\n",
    "    elif number == 7:\n",
    "        print('Result:', num1 ** num2)\n",
    "    else:\n",
    "        print('Invalid choice. Please select a valid operation.')"
   ]
  },
  {
   "cell_type": "code",
   "execution_count": 14,
   "id": "37141ec1",
   "metadata": {},
   "outputs": [
    {
     "name": "stdout",
     "output_type": "stream",
     "text": [
      "Enter year:1900\n",
      "it is not a leap year\n"
     ]
    }
   ],
   "source": [
    "# Q. W A P to check whether a year entered by user is an leap year or not?\n",
    "# Check with below input:-\n",
    "# leap year:- 2012, 1968, 2004, 1200, 1600,2400\n",
    "# Non-lear year:- 1971, 2006, 1700,1800,1900\n",
    "\n",
    "year=input('Enter year:' )\n",
    "\n",
    "year1=int(year)\n",
    "if year1%4==0and (year1 % 100 != 0 or year1 % 400 == 0):\n",
    "    print('it is a leap year')\n",
    "else:\n",
    "    print('it is not a leap year')\n"
   ]
  },
  {
   "cell_type": "code",
   "execution_count": 18,
   "id": "a56ca286",
   "metadata": {},
   "outputs": [
    {
     "name": "stdout",
     "output_type": "stream",
     "text": [
      "it is an even number\n",
      "it is an odd number\n"
     ]
    }
   ],
   "source": [
    "# Q. W A P which takes one number from the user and checks whether it is\n",
    "# an even or odd number?, If it even then prints number is\n",
    "# even number else prints that number is odd number.\n",
    "\n",
    "\n",
    "def even_or_odd(num):\n",
    "    if num%2==0:\n",
    "        return('it is an even number')\n",
    "    else:\n",
    "        return('it is an odd number')\n",
    "    \n",
    "print(even_or_odd(10))\n",
    "print(even_or_odd(1))"
   ]
  },
  {
   "cell_type": "code",
   "execution_count": 6,
   "id": "e3601685",
   "metadata": {},
   "outputs": [
    {
     "name": "stdout",
     "output_type": "stream",
     "text": [
      "Enter the first number: 20\n",
      "Enter the second number: 40\n",
      "num1 is smaller than num2\n"
     ]
    }
   ],
   "source": [
    "# Q. W A P which takes two numbers from the user and prints below output:-\n",
    "# 1. num1 is greater than num2 if num1 is greater than num2\n",
    "# 2. num1 is smaller than num2 if num1 is smaller than num2\n",
    "# 3. num1 is equal to num2 if num1 and num2 are equal\n",
    "\n",
    "# Note:- 1. Do this problem using if - else\n",
    "# 2. Do this using ternary operator\n",
    "\n",
    "def compare_numbers(num1, num2):\n",
    "    return 'num1 is greater than num2' if num1 > num2 else ('num1 is smaller than num2' if num1 < num2 else 'num1 and num2 are equal')\n",
    "\n",
    "num1 = float(input('Enter the first number: '))\n",
    "num2 = float(input('Enter the second number: '))\n",
    "\n",
    "result = compare_numbers(num1, num2)\n",
    "print(result)"
   ]
  },
  {
   "cell_type": "code",
   "execution_count": 5,
   "id": "500ae7e5",
   "metadata": {},
   "outputs": [
    {
     "name": "stdout",
     "output_type": "stream",
     "text": [
      "Enter the first number: 30\n",
      "Enter the second number: 20\n",
      "Enter the first number: 10\n",
      "num1 is greater than num2 and num3\n"
     ]
    }
   ],
   "source": [
    "# Q. W A P which takes three numbers from the user and prints below\n",
    "# output:-\n",
    "# 1. num1 is greater than num2 and num3 if num1 is greater than num2\n",
    "# and num3\n",
    "# 2. num2 is greater than num1 and num3 if num2 is greater than num1\n",
    "# and num3\n",
    "\n",
    "# 3. num3 is greater than num1 and num2 if num3 is greater than num1\n",
    "# and num2\n",
    "# Note:- 1. Do this problem using if - elif - else\n",
    "# 2. Do this using ternary operator\n",
    "# a = a if a>b else b\n",
    "\n",
    "def compare_numbers1(num1, num2,num3):\n",
    "    result='num1 is greater than num2 and num3' if num1>num2 and num1>num3 else('num2 is greater than num3'if num2>num1 and num2>num3 else 'num3 is greater than num1 and num2')\n",
    "    print(result)\n",
    "num1 = float(input('Enter the first number: '))\n",
    "num2 = float(input('Enter the second number: '))\n",
    "num3 = float(input('Enter the first number: '))\n",
    "\n",
    "compare_numbers(num1, num2,num3)"
   ]
  },
  {
   "cell_type": "markdown",
   "id": "d74920ef",
   "metadata": {},
   "source": [
    "# Loops - for loop, while loop"
   ]
  },
  {
   "cell_type": "code",
   "execution_count": 11,
   "id": "4b0671d4",
   "metadata": {},
   "outputs": [
    {
     "name": "stdout",
     "output_type": "stream",
     "text": [
      "55\n"
     ]
    }
   ],
   "source": [
    "# Q. Write a Python program to find the length of the my_str using loop:-\n",
    "# Input:- 'Write a Python program to find the length of the my_str'\n",
    "# Output:- 55\n",
    "\n",
    "def length_of_the_string(str):\n",
    "    count=0\n",
    "    for x in str:\n",
    "        count+=1\n",
    "    print(count)\n",
    "\n",
    "my_str='Write a Python program to find the length of the my_str'\n",
    "length_of_the_string(my_str)\n"
   ]
  },
  {
   "cell_type": "code",
   "execution_count": 15,
   "id": "2dc561c0",
   "metadata": {},
   "outputs": [
    {
     "name": "stdout",
     "output_type": "stream",
     "text": [
      "9\n"
     ]
    }
   ],
   "source": [
    "# Q. Write a Python program to find the total number of times letter 'p'\n",
    "# is appeared in the below string using loop:-\n",
    "# Input:- 'peter piper picked a peck of pickled peppers.\\n'\n",
    "# Output:- 9\n",
    "\n",
    "def number_of_times(str):\n",
    "    count=0\n",
    "    for x in str:\n",
    "        if 'p' in x:\n",
    "            count+=1\n",
    "    print(count)\n",
    "Input='peter piper picked a peck of pickled peppers'\n",
    "number_of_times(Input)"
   ]
  },
  {
   "cell_type": "code",
   "execution_count": 31,
   "id": "e3d1608e",
   "metadata": {},
   "outputs": [
    {
     "name": "stdout",
     "output_type": "stream",
     "text": [
      "0\n",
      "6\n",
      "8\n",
      "12\n",
      "21\n",
      "29\n",
      "37\n",
      "39\n",
      "40\n"
     ]
    }
   ],
   "source": [
    "# Q. Write a Python Program, to print all the indexes of all occurences of\n",
    "# letter 'p' appeared in the string using loop:-\n",
    "# Input:- 'peter piper picked a peck of pickled peppers.'\n",
    "# Output:-\n",
    "# 0\n",
    "# 6\n",
    "# 8\n",
    "# 12\n",
    "# 21\n",
    "# 29\n",
    "# 37\n",
    "# 39\n",
    "# 40\n",
    "\n",
    "\n",
    "def all_the_indexes(str):\n",
    "    for index in range(len(str)):\n",
    "        if str[index]=='p':\n",
    "            print(index)\n",
    "\n",
    "Input = 'peter piper picked a peck of pickled peppers'\n",
    "all_the_indexes(Input)"
   ]
  },
  {
   "cell_type": "code",
   "execution_count": 19,
   "id": "bb705415",
   "metadata": {},
   "outputs": [
    {
     "name": "stdout",
     "output_type": "stream",
     "text": [
      "['peter', 'piper', 'picked', 'a', 'peck', 'of', 'pickled', 'peppers']\n"
     ]
    }
   ],
   "source": [
    "# Q. Write a python program to find below output using loop:-\n",
    "# Input:- 'peter piper picked a peck of pickled peppers.'\n",
    "# Output:- ['peter', 'piper', 'picked', 'a', 'peck', 'of', 'pickled',\n",
    "# 'peppers']\n",
    "\n",
    "mystr = 'peter piper picked a peck of pickled peppers.'\n",
    "output = []\n",
    "\n",
    "start=0\n",
    "for x in range(0,len(mystr)):\n",
    "    if (mystr [x]==' ')or (mystr [x]=='.'):\n",
    "        output.append(mystr[start:x])\n",
    "        start=x+1\n",
    "print(output)\n",
    "            "
   ]
  },
  {
   "cell_type": "code",
   "execution_count": 30,
   "id": "20a2073c",
   "metadata": {},
   "outputs": [
    {
     "name": "stdout",
     "output_type": "stream",
     "text": [
      "peppers pickled of peck a picked piper peter \n"
     ]
    }
   ],
   "source": [
    "# Q. Write a python program to find below output using loop:-\n",
    "# Input:- 'peter piper picked a peck of pickled peppers.'\n",
    "# Output:- 'peppers pickled of peck a picked piper peter'\n",
    "\n",
    "myStr = 'peter piper picked a peck of pickled peppers.'\n",
    "output =''\n",
    "start = 0\n",
    "for i in range(0, len(myStr)):\n",
    "    if(myStr[i]==\" \"or mystr[i]==\".\"):\n",
    "        output = myStr[start:i] + \" \"+output\n",
    "        start = i+1\n",
    "print(output)\n"
   ]
  },
  {
   "cell_type": "code",
   "execution_count": 31,
   "id": "e8e7612a",
   "metadata": {},
   "outputs": [
    {
     "name": "stdout",
     "output_type": "stream",
     "text": [
      ".sreppep delkcip fo kcep a dekcip repip retep\n"
     ]
    }
   ],
   "source": [
    "# Q. Write a python program to find below output using loop:-\n",
    "# Input:- 'peter piper picked a peck of pickled peppers.'\n",
    "# Output:- '.sreppep delkcip fo kcep a dekcip repip retep'\n",
    "\n",
    "Input = 'peter piper picked a peck of pickled peppers.'\n",
    "output=''\n",
    "\n",
    "for char in reversed (Input):\n",
    "    output+=char\n",
    "\n",
    "print(output)\n",
    "\n",
    "\n",
    "\n",
    "\n",
    "\n",
    "# Input = 'peter piper picked a peck of pickled peppers.'\n",
    "# output=Input[::-1]\n",
    "# print(output)"
   ]
  },
  {
   "cell_type": "code",
   "execution_count": 8,
   "id": "530fd2a2",
   "metadata": {},
   "outputs": [
    {
     "name": "stdout",
     "output_type": "stream",
     "text": [
      "retep repip dekcip a kcep fo delkcip .sreppep "
     ]
    }
   ],
   "source": [
    "# Q. Write a python program to find below output using loop:-\n",
    "# Input:- 'peter piper picked a peck of pickled peppers.'\n",
    "# Output:- 'retep repip dekcip a kcep fo delkcip sreppep'\n",
    "\n",
    "Input = 'peter piper picked a peck of pickled peppers.'\n",
    "output=Input.split()\n",
    "for x in output:\n",
    "    print(x[::-1],end=' ')\n",
    "    \n",
    "   "
   ]
  },
  {
   "cell_type": "code",
   "execution_count": 4,
   "id": "3ef86bae",
   "metadata": {},
   "outputs": [
    {
     "ename": "SyntaxError",
     "evalue": "invalid syntax (4008312669.py, line 11)",
     "output_type": "error",
     "traceback": [
      "\u001b[1;36m  Cell \u001b[1;32mIn[4], line 11\u001b[1;36m\u001b[0m\n\u001b[1;33m    print(.upper(Input[x+1])\u001b[0m\n\u001b[1;37m          ^\u001b[0m\n\u001b[1;31mSyntaxError\u001b[0m\u001b[1;31m:\u001b[0m invalid syntax\n"
     ]
    }
   ],
   "source": [
    "# Q. Write a python program to find below output using loop:-\n",
    "# Input:- 'peter piper picked a peck of pickled peppers.'\n",
    "# Output:- 'Peter Piper Picked A Peck Of Pickled Peppers'\n",
    "\n",
    "Input = 'peter piper picked a peck of pickled peppers.'\n",
    "\n",
    "def capitalize_each_word(str1):\n",
    "    split1=str1.split()\n",
    "    for x in split1:\n",
    "        \n",
    "    "
   ]
  },
  {
   "cell_type": "code",
   "execution_count": null,
   "id": "3cb09719",
   "metadata": {},
   "outputs": [],
   "source": [
    "# Q. Write a python program to find below output using loop:-\n",
    "# Input:- 'Peter Piper Picked A Peck Of Pickled Peppers.'\n",
    "# Output:- 'Peter piper picked a peck of pickled peppers'\n",
    "\n",
    "\n"
   ]
  },
  {
   "cell_type": "code",
   "execution_count": 25,
   "id": "28db3d5d",
   "metadata": {},
   "outputs": [
    {
     "name": "stdout",
     "output_type": "stream",
     "text": [
      "29\n"
     ]
    }
   ],
   "source": [
    "# Q. Write a python program to implement index method using loop. If\n",
    "# sub_str is found in my_str then it will print the index\n",
    "# of first occurrence of first character of matching string in my_str:-\n",
    "# Input:- my_str = 'Peter Piper Picked A Peck Of Pickled Peppers.',\n",
    "# sub_str = 'Pickl'\n",
    "# Output:- 29\n",
    "\n",
    "my_str = 'Peter Piper Picked A Peck Of Pickled Peppers.'\n",
    "sub_str='Pickl'\n",
    "for x in range(0,len(my_str)):\n",
    "    if my_str[x:x+len(sub_str)] ==sub_str:\n",
    "        print(x)\n",
    "                \n"
   ]
  },
  {
   "cell_type": "code",
   "execution_count": 10,
   "id": "0428cf2a",
   "metadata": {},
   "outputs": [
    {
     "name": "stdout",
     "output_type": "stream",
     "text": [
      " Peter Piper Picked A Pack Of Pickled Peppers.\n"
     ]
    }
   ],
   "source": [
    "# Q. Write a python program to implement replace method using loop. If\n",
    "# sub_str is found in my_str then it will replace the first\n",
    "# occurrence of sub_str with new_str else it will will print sub_str not\n",
    "# found:-\n",
    "# Input:- my_str = 'Peter Piper Picked A Peck Of Pickled Peppers.',\n",
    "# sub_str = 'Peck', new_str = 'Pack'\n",
    "# Output:- 'Peter Piper Picked A Pack Of Pickled Peppers.'\n",
    "\n",
    "my_str = 'Peter Piper Picked A Peck Of Pickled Peppers.'\n",
    "result=''\n",
    "new=my_str.split()\n",
    "for x in new:\n",
    "    \n",
    "    if x=='Peck':\n",
    "        result+=\" \" +'Pack'\n",
    "    else:\n",
    "        result+=\" \"+x\n",
    "        \n",
    "        \n",
    "print(result)"
   ]
  },
  {
   "cell_type": "code",
   "execution_count": 19,
   "id": "0e790c1a",
   "metadata": {},
   "outputs": [
    {
     "name": "stdout",
     "output_type": "stream",
     "text": [
      "*********************Peck***********************"
     ]
    }
   ],
   "source": [
    "# Q. Write a python program to find below output (implements rjust and\n",
    "# ljust) using loop:-\n",
    "# Input:- 'Peter Piper Picked A Peck Of Pickled Peppers.', sub_str =\n",
    "# 'Peck',\n",
    "# Output:- '*********************Peck********************'\n",
    "\n",
    "my_str='Peter Piper Picked A Peck Of Pickled Peppers.'\n",
    "sub_str ='Peck'\n",
    "\n",
    "for x in range(0,len(my_str)):\n",
    "    if my_str[x:x+len(sub_str)]==sub_str:\n",
    "        print('Peck',end='')\n",
    "    else:\n",
    "        print('*',end='')"
   ]
  },
  {
   "cell_type": "code",
   "execution_count": null,
   "id": "057b3158",
   "metadata": {},
   "outputs": [],
   "source": [
    "# Q. Write a python program to find below output using loop:-\n",
    "# Input:- 'This is Python class', sep = ' is',\n",
    "# Output:- ['This', 'is', 'Python class']\n",
    "\n",
    "Input= 'This is Python class'\n",
    "sep = ' is'\n",
    "\n"
   ]
  },
  {
   "cell_type": "code",
   "execution_count": null,
   "id": "ae27e09c",
   "metadata": {},
   "outputs": [],
   "source": []
  },
  {
   "cell_type": "code",
   "execution_count": null,
   "id": "7e3fc70b",
   "metadata": {},
   "outputs": [],
   "source": []
  },
  {
   "cell_type": "code",
   "execution_count": null,
   "id": "451c4327",
   "metadata": {},
   "outputs": [],
   "source": []
  },
  {
   "cell_type": "code",
   "execution_count": null,
   "id": "e53e150f",
   "metadata": {},
   "outputs": [],
   "source": []
  },
  {
   "cell_type": "code",
   "execution_count": null,
   "id": "325a4af9",
   "metadata": {},
   "outputs": [],
   "source": []
  },
  {
   "cell_type": "code",
   "execution_count": null,
   "id": "90851f10",
   "metadata": {},
   "outputs": [],
   "source": []
  },
  {
   "cell_type": "code",
   "execution_count": null,
   "id": "9bf5e6f3",
   "metadata": {},
   "outputs": [],
   "source": []
  },
  {
   "cell_type": "code",
   "execution_count": null,
   "id": "92f0a225",
   "metadata": {},
   "outputs": [],
   "source": []
  },
  {
   "cell_type": "code",
   "execution_count": null,
   "id": "e3b02e68",
   "metadata": {},
   "outputs": [],
   "source": []
  }
 ],
 "metadata": {
  "kernelspec": {
   "display_name": "Python 3 (ipykernel)",
   "language": "python",
   "name": "python3"
  },
  "language_info": {
   "codemirror_mode": {
    "name": "ipython",
    "version": 3
   },
   "file_extension": ".py",
   "mimetype": "text/x-python",
   "name": "python",
   "nbconvert_exporter": "python",
   "pygments_lexer": "ipython3",
   "version": "3.10.9"
  }
 },
 "nbformat": 4,
 "nbformat_minor": 5
}

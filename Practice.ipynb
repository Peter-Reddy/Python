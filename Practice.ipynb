{
 "cells": [
  {
   "cell_type": "code",
   "execution_count": 17,
   "id": "305a3b98",
   "metadata": {},
   "outputs": [
    {
     "name": "stdout",
     "output_type": "stream",
     "text": [
      "enter a string:hello\n",
      "h\n",
      "e\n",
      "l\n",
      "l\n",
      "o\n"
     ]
    },
    {
     "data": {
      "text/plain": [
       "10"
      ]
     },
     "execution_count": 17,
     "metadata": {},
     "output_type": "execute_result"
    }
   ],
   "source": [
    "def is_vowel(char):\n",
    "     if char in 'aeiou':\n",
    "        return True\n",
    "     else:\n",
    "        return False\n",
    "is_vowel('a')\n",
    "\n",
    "\n",
    "def main():\n",
    "    str1=input('enter a string:')\n",
    "    count=0\n",
    "    for x in str1:\n",
    "        print(x)\n",
    "        if 'a'in str1:\n",
    "            count+=1\n",
    "        if 'e' in str1:\n",
    "            count+=1\n",
    "        \n",
    "        if 'i' in str1:\n",
    "            count+=1\n",
    "        if 'o' in str1:\n",
    "            count+=1\n",
    "        if 'u' in str1:\n",
    "            count+=1\n",
    "    return count\n",
    "main()"
   ]
  },
  {
   "cell_type": "code",
   "execution_count": 23,
   "id": "88f26189",
   "metadata": {},
   "outputs": [
    {
     "ename": "TypeError",
     "evalue": "main() missing 1 required positional argument: 'str1'",
     "output_type": "error",
     "traceback": [
      "\u001b[1;31m---------------------------------------------------------------------------\u001b[0m",
      "\u001b[1;31mTypeError\u001b[0m                                 Traceback (most recent call last)",
      "Cell \u001b[1;32mIn[23], line 16\u001b[0m\n\u001b[0;32m     14\u001b[0m             count\u001b[38;5;241m+\u001b[39m\u001b[38;5;241m=\u001b[39m\u001b[38;5;241m1\u001b[39m\n\u001b[0;32m     15\u001b[0m     \u001b[38;5;28;01mreturn\u001b[39;00m count\n\u001b[1;32m---> 16\u001b[0m \u001b[43mmain\u001b[49m\u001b[43m(\u001b[49m\u001b[43m)\u001b[49m\n",
      "\u001b[1;31mTypeError\u001b[0m: main() missing 1 required positional argument: 'str1'"
     ]
    }
   ],
   "source": [
    "def is_vowel(char):\n",
    "     if char in 'aeiou':\n",
    "        return True\n",
    "     else:\n",
    "        return False\n",
    "is_vowel('a')\n",
    "\n",
    "\n",
    "def main():\n",
    "    str1=input('enter a string:')\n",
    "    count=0\n",
    "    for x in str1:\n",
    "        if is_vowel(x):\n",
    "            count+=1\n",
    "    return count\n",
    "main()"
   ]
  },
  {
   "cell_type": "code",
   "execution_count": 2,
   "id": "86281ff7",
   "metadata": {},
   "outputs": [
    {
     "name": "stdout",
     "output_type": "stream",
     "text": [
      "No match found.\n"
     ]
    }
   ],
   "source": [
    "import re\n",
    "string = 'cat mat bat rat'\n",
    "res = re.match(r'rat', string)\n",
    "\n",
    "if res:\n",
    "    print(res.group())\n",
    "else:\n",
    "    print(\"No match found.\")"
   ]
  },
  {
   "cell_type": "code",
   "execution_count": null,
   "id": "4394ea81",
   "metadata": {},
   "outputs": [],
   "source": []
  },
  {
   "cell_type": "code",
   "execution_count": null,
   "id": "51c6858d",
   "metadata": {},
   "outputs": [],
   "source": []
  },
  {
   "cell_type": "code",
   "execution_count": null,
   "id": "e11150c1",
   "metadata": {},
   "outputs": [],
   "source": []
  },
  {
   "cell_type": "code",
   "execution_count": null,
   "id": "0a4fad5d",
   "metadata": {},
   "outputs": [],
   "source": []
  },
  {
   "cell_type": "code",
   "execution_count": null,
   "id": "7994f4f6",
   "metadata": {},
   "outputs": [],
   "source": []
  },
  {
   "cell_type": "code",
   "execution_count": null,
   "id": "5444a00d",
   "metadata": {},
   "outputs": [],
   "source": []
  },
  {
   "cell_type": "code",
   "execution_count": null,
   "id": "f130c861",
   "metadata": {},
   "outputs": [],
   "source": []
  },
  {
   "cell_type": "code",
   "execution_count": null,
   "id": "e9c164a4",
   "metadata": {},
   "outputs": [],
   "source": []
  },
  {
   "cell_type": "code",
   "execution_count": 1,
   "id": "f6981d7f",
   "metadata": {},
   "outputs": [
    {
     "name": "stdout",
     "output_type": "stream",
     "text": [
      "Enter the first number: 10\n",
      "Enter the second number: 20\n",
      "Enter the third number: 30\n"
     ]
    },
    {
     "data": {
      "text/plain": [
       "30"
      ]
     },
     "execution_count": 1,
     "metadata": {},
     "output_type": "execute_result"
    }
   ],
   "source": [
    "def find_max(a, b, c):\n",
    "    if a >= b and a >= c:\n",
    "        return a\n",
    "    elif b >= c:\n",
    "        return b\n",
    "    else:\n",
    "        return c\n",
    "\n",
    "def main():\n",
    "    x = int(input(\"Enter the first number: \"))\n",
    "    y = int(input(\"Enter the second number: \"))\n",
    "    z = int(input(\"Enter the third number: \"))\n",
    "    \n",
    "    return find_max(x,y,z)\n",
    "    \n",
    "\n",
    "main()"
   ]
  },
  {
   "cell_type": "code",
   "execution_count": 2,
   "id": "8a761b03",
   "metadata": {},
   "outputs": [
    {
     "name": "stdout",
     "output_type": "stream",
     "text": [
      "Enter the first number: 10\n",
      "Enter the second number: 20\n",
      "Enter the third number: 30\n",
      "The largest number is: 30\n"
     ]
    }
   ],
   "source": [
    "def find_max(a, b, c):\n",
    "    if a >= b and a >= c:\n",
    "        return a\n",
    "    elif b >= c:\n",
    "        return b\n",
    "    else:\n",
    "        return c\n",
    "\n",
    "def main():\n",
    "    x = int(input(\"Enter the first number: \"))\n",
    "    y = int(input(\"Enter the second number: \"))\n",
    "    z = int(input(\"Enter the third number: \"))\n",
    "    \n",
    "    max_number = find_max(x, y, z)\n",
    "    print(\"The largest number is:\", max_number)\n",
    "\n",
    "main()"
   ]
  },
  {
   "cell_type": "code",
   "execution_count": null,
   "id": "ffcd8dee",
   "metadata": {},
   "outputs": [],
   "source": []
  },
  {
   "cell_type": "code",
   "execution_count": null,
   "id": "c4dca64e",
   "metadata": {},
   "outputs": [],
   "source": []
  },
  {
   "cell_type": "code",
   "execution_count": null,
   "id": "927b7d88",
   "metadata": {},
   "outputs": [],
   "source": []
  }
 ],
 "metadata": {
  "kernelspec": {
   "display_name": "Python 3 (ipykernel)",
   "language": "python",
   "name": "python3"
  },
  "language_info": {
   "codemirror_mode": {
    "name": "ipython",
    "version": 3
   },
   "file_extension": ".py",
   "mimetype": "text/x-python",
   "name": "python",
   "nbconvert_exporter": "python",
   "pygments_lexer": "ipython3",
   "version": "3.10.9"
  }
 },
 "nbformat": 4,
 "nbformat_minor": 5
}

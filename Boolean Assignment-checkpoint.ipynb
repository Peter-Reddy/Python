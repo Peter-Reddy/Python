{
 "cells": [
  {
   "cell_type": "code",
   "execution_count": 10,
   "id": "834fbcc9",
   "metadata": {},
   "outputs": [
    {
     "name": "stdout",
     "output_type": "stream",
     "text": [
      "<class 'bool'>\n",
      "140714237446384\n"
     ]
    }
   ],
   "source": [
    "#Q: Declare a boolean value and store it in a variable.Check the type and print the id of the same\n",
    "\n",
    "\n",
    "a = False\n",
    "\n",
    "print(type(a))\n",
    "print(id(a))"
   ]
  },
  {
   "cell_type": "code",
   "execution_count": 3,
   "id": "d4f8d4df",
   "metadata": {},
   "outputs": [
    {
     "name": "stdout",
     "output_type": "stream",
     "text": [
      "140722540595440\n",
      "140722540595440\n",
      "<class 'bool'>\n"
     ]
    }
   ],
   "source": [
    "#Q. Take one boolean value between 0 - 256.Assign it to two different variables.Check the id of both the variables. \n",
    "#    It should come the same. Check why?\n",
    "\n",
    "\n",
    "a = bool(0)\n",
    "b = bool(0)\n",
    "print(id(a))\n",
    "print(id(b))\n"
   ]
  },
  {
   "cell_type": "code",
   "execution_count": null,
   "id": "cbcda38f",
   "metadata": {},
   "outputs": [],
   "source": [
    "#Q. Arithmetic Operations on boolean data\n",
    "#Take two different boolean values.\n",
    "#Store them in two different variables.\n",
    "#Do below operations on them:-\n",
    "# Find sum of both values\n",
    "# Find difference between them\n",
    "# Find the product of both.\n",
    "# Find value after dividing first value with second value\n",
    "# Find the remainder after dividing first value with second value\n",
    "# Find the quotient after dividing first value with second value\n",
    "# Find the result of first value to the power of second value."
   ]
  },
  {
   "cell_type": "code",
   "execution_count": 25,
   "id": "edb6bcad",
   "metadata": {},
   "outputs": [
    {
     "name": "stdout",
     "output_type": "stream",
     "text": [
      "1\n",
      "-1\n",
      "0\n",
      "0.0\n",
      "0\n",
      "0.0\n",
      "0\n"
     ]
    }
   ],
   "source": [
    "a = 0\n",
    "b = 1\n",
    "\n",
    "\n",
    "c = a+b\n",
    "print (c)\n",
    "\n",
    "c = a-b\n",
    "print (c)\n",
    "\n",
    "c = a*b\n",
    "print (c)\n",
    "\n",
    "c = a/b\n",
    "print (c)\n",
    "\n",
    "c = a%b\n",
    "print (c)\n",
    "\n",
    "c = a//b\n",
    "print (c)\n",
    "\n",
    "c = a**b\n",
    "print (c)"
   ]
  },
  {
   "cell_type": "code",
   "execution_count": 1,
   "id": "a4da2394",
   "metadata": {},
   "outputs": [
    {
     "name": "stdout",
     "output_type": "stream",
     "text": [
      "True\n",
      "False\n",
      "True\n",
      "False\n"
     ]
    }
   ],
   "source": [
    "#Q. Comparison Operators on boolean values\n",
    "# Take two different boolean values.\n",
    "# Store them in two different variables.\n",
    "# Do below operations on them:-\n",
    "# Compare these two values with below operator:-\n",
    "# Greater than, '>'\n",
    "# less than, '<'\n",
    "# Greater than or equal to, '>='\n",
    "# Less than or equal to, '<='\n",
    "# Observe their output(return type should be boolean)\n",
    "\n",
    "a=1 \n",
    "b=0\n",
    "\n",
    "print (a>b)\n",
    "print (a<b)\n",
    "print (a>=b)\n",
    "print (a<=b)\n",
    "\n",
    "\n"
   ]
  },
  {
   "cell_type": "code",
   "execution_count": 3,
   "id": "296d1664",
   "metadata": {},
   "outputs": [
    {
     "name": "stdout",
     "output_type": "stream",
     "text": [
      "False\n",
      "True\n"
     ]
    }
   ],
   "source": [
    "#Q. Equality Operator\n",
    "#Take two different boolean values.\n",
    "#Store them in two different variables.\n",
    "#Equate them using equality operators (==, !=)\n",
    "#Observe the output(return type should be boolean)\n",
    "\n",
    "\n",
    "a=1 \n",
    "b=0\n",
    "\n",
    "print(a==b)\n",
    "print(a!=b)"
   ]
  },
  {
   "cell_type": "code",
   "execution_count": 14,
   "id": "a9f74206",
   "metadata": {
    "scrolled": true
   },
   "outputs": [
    {
     "name": "stdout",
     "output_type": "stream",
     "text": [
      "True\n",
      "False\n",
      "False\n",
      "False\n",
      "True\n",
      "True\n",
      "True\n",
      "False\n",
      "False\n",
      "True\n"
     ]
    }
   ],
   "source": [
    "#Q. Logical operators\n",
    "#Observe the output of below code\n",
    "#Cross check the output manually\n",
    "\n",
    "\n",
    "print(True and True)\n",
    "#----------------------------------------->Output is True\n",
    "\n",
    "print(False and True)\n",
    "#----------------------------------------->Output is False\n",
    "\n",
    "print(True and False)\n",
    "#----------------------------------------->Output is False\n",
    "\n",
    "print(True and False)\n",
    "#----------------------------------------->Output is False\n",
    "\n",
    "print(True or True)\n",
    "#----------------------------------------->Output is True\n",
    "\n",
    "print(False or True)\n",
    "#----------------------------------------->Output is True\n",
    "\n",
    "print(True or False)\n",
    "#----------------------------------------->Output is True\n",
    "\n",
    "print(False or False)\n",
    "#----------------------------------------->Output is False\n",
    "\n",
    "print(not True)\n",
    "#----------------------------------------->Output is False\n",
    "\n",
    "print(not False)\n",
    "#----------------------------------------->Output is True"
   ]
  },
  {
   "cell_type": "code",
   "execution_count": 10,
   "id": "92fdfbc9",
   "metadata": {},
   "outputs": [
    {
     "name": "stdout",
     "output_type": "stream",
     "text": [
      "True\n",
      "True\n",
      "True\n",
      "-2\n",
      "4\n",
      "0\n"
     ]
    }
   ],
   "source": [
    "#Q. Bitwise Operators\n",
    "#Do below operations on the values provided below:-\n",
    "    \n",
    "# Bitwise and(&) --------------> True, True -------> Output is True\n",
    "# Bitwise or(|) --------------> True, False -------> Output is True\n",
    "# Bitwise(^) --------------> True, False -------> Output is True\n",
    "# Bitwise negation(~) ---------> True -------> Output is -2\n",
    "# Bitwise left shift ---------> True,2 -------> Output is 4\n",
    "# Bitwise right shift ---------> True,2 -------> Output is 0\n",
    "#Cross check the output manually\n",
    "\n",
    "\n",
    "print (True & True)\n",
    "print (True | False)\n",
    "print (True ^False)\n",
    "print (~True)\n",
    "print (True<<2)\n",
    "print (True>>2)"
   ]
  },
  {
   "cell_type": "code",
   "execution_count": 8,
   "id": "0425c784",
   "metadata": {},
   "outputs": [
    {
     "name": "stdout",
     "output_type": "stream",
     "text": [
      "True\n",
      "False\n",
      "True\n",
      "False\n"
     ]
    }
   ],
   "source": [
    "#Q. What is the output of expression inside the print statement. Cross\n",
    "#check before running the program.\n",
    "a = True\n",
    "b = True\n",
    "print(a is b) #True or False? #\n",
    "print(a is not b) #True or False?\n",
    "a = False\n",
    "b = False\n",
    "print(a is b) #True or False?\n",
    "print(a is not b) #True or False?\n"
   ]
  },
  {
   "cell_type": "code",
   "execution_count": 16,
   "id": "74fea8d1",
   "metadata": {
    "scrolled": true
   },
   "outputs": [
    {
     "name": "stdout",
     "output_type": "stream",
     "text": [
      "True\n",
      "True\n",
      "True\n",
      "True\n",
      "True\n"
     ]
    }
   ],
   "source": [
    "#Q. Membership operation\n",
    "#in, not in are two membership operators and it returns boolean value\n",
    "print(True in [10,10.20,10+20j,'Python', True])\n",
    "print(False in (10,10.20,10+20j,'Python', False))\n",
    "print(True in {1,2,3, True})\n",
    "print(True in {True:100, False:200, True:300})\n",
    "print(False in {True:100, False:200, True:300})"
   ]
  }
 ],
 "metadata": {
  "kernelspec": {
   "display_name": "Python 3 (ipykernel)",
   "language": "python",
   "name": "python3"
  },
  "language_info": {
   "codemirror_mode": {
    "name": "ipython",
    "version": 3
   },
   "file_extension": ".py",
   "mimetype": "text/x-python",
   "name": "python",
   "nbconvert_exporter": "python",
   "pygments_lexer": "ipython3",
   "version": "3.10.9"
  }
 },
 "nbformat": 4,
 "nbformat_minor": 5
}
